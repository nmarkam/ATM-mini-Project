{
 "cells": [
  {
   "cell_type": "code",
   "execution_count": 1,
   "metadata": {},
   "outputs": [],
   "source": [
    "# defining class ATM\n",
    "class ATM():\n",
    "    def __init__ (self, saving_acc_bal,checking_acc_bal):\n",
    "        self.saving_acc_bal = saving_acc_bal\n",
    "        self.checking_acc_bal = checking_acc_bal\n",
    "        \n",
    "    def deposit (self,amount):\n",
    "        self.amount = amount\n",
    "        new_saving_acc_bal = saving_acc_bal + amount\n",
    "        \n",
    "        return new_saving_acc_bal\n",
    "        \n",
    "    def withdraw (self,amount):\n",
    "        self.amount = amount\n",
    "        balance = saving_acc_bal - amount\n",
    "        \n",
    "        return balance\n",
    "    \n",
    "    def transfer (self, amount):\n",
    "        \n",
    "        if (amount > checking_acc_bal):\n",
    "            print(\"Amount cannot be transfered!!\")\n",
    "            return saving_acc_bal,checking_acc_bal\n",
    "        \n",
    "        else:\n",
    "            \n",
    "            balance_checking = checking_acc_bal - amount\n",
    "            balance_saving = saving_acc_bal + amount\n",
    "            \n",
    "            return balance_saving, balance_checking"
   ]
  },
  {
   "cell_type": "code",
   "execution_count": 2,
   "metadata": {},
   "outputs": [
    {
     "name": "stdout",
     "output_type": "stream",
     "text": [
      "Please enter the pin: 2020\n",
      "Please enter the pin again : 2020\n",
      "Options:\n",
      "1. Check balance \n",
      "2. Deposit \n",
      "3. Withdraw \n",
      "4. Transfer\n",
      "Enter your choice : 4\n",
      "Enter amount to transfer : 12000\n",
      "Saving account balance and checking account balance are :  (112000, 88000)\n"
     ]
    }
   ],
   "source": [
    "# default values given for PIN code, Saving account balance, checking account balance\n",
    "pin_act = 2020\n",
    "saving_acc_bal = 100000\n",
    "checking_acc_bal = 100000\n",
    "pin = int(input(\"Please enter the pin: \"))\n",
    "if (pin == pin_act):\n",
    "    pin2 = int(input(\"Please enter the pin again : \"))\n",
    "    if (pin2 == pin_act):\n",
    "        print(\"Options:\")\n",
    "        print(\"1. Check balance \\n2. Deposit \\n3. Withdraw \\n4. Transfer\")\n",
    "        choice = int(input(\"Enter your choice : \"))\n",
    "        A = ATM(saving_acc_bal,checking_acc_bal)\n",
    "        if (choice == 1):\n",
    "            balance = A.saving_acc_bal\n",
    "            print(\"Saving account balance is : \",balance)\n",
    "            \n",
    "        elif (choice == 2):\n",
    "            amount = int(input(\"Enter amount to deposit on savings account : \"))\n",
    "            balance = A.deposit(amount)\n",
    "            print(\"Your new account balance is : \",balance)\n",
    "            \n",
    "        elif (choice == 3):\n",
    "            amount = int(input(\"Enter amount to withdraw : \"))\n",
    "            balance = A.withdraw(amount)\n",
    "            if (amount < balance):\n",
    "                balance = A.withdraw(amount)\n",
    "                print(\"Your new account balance is :\",balance)\n",
    "            else:\n",
    "                print(\"Your account balance is low\")\n",
    "                amount = int(input(\"Enter amount to withdraw : \"))\n",
    "                print(\"Your new account balance is : \",amount)\n",
    "                \n",
    "        elif (choice == 4):\n",
    "            amount = int(input(\"Enter amount to transfer : \"))\n",
    "            balance = A.transfer(amount)\n",
    "            print(\"Saving account balance and checking account balance are : \",balance)\n",
    "            \n",
    "        else:\n",
    "            print(\"Wrong choice!!\")\n",
    "\n",
    "else:\n",
    "    print(\"Wrong PIN!!\")"
   ]
  },
  {
   "cell_type": "code",
   "execution_count": null,
   "metadata": {},
   "outputs": [],
   "source": []
  }
 ],
 "metadata": {
  "kernelspec": {
   "display_name": "Python 3",
   "language": "python",
   "name": "python3"
  },
  "language_info": {
   "codemirror_mode": {
    "name": "ipython",
    "version": 3
   },
   "file_extension": ".py",
   "mimetype": "text/x-python",
   "name": "python",
   "nbconvert_exporter": "python",
   "pygments_lexer": "ipython3",
   "version": "3.7.4"
  }
 },
 "nbformat": 4,
 "nbformat_minor": 2
}
